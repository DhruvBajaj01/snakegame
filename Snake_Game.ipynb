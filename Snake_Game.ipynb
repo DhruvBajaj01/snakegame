{
  "nbformat": 4,
  "nbformat_minor": 0,
  "metadata": {
    "colab": {
      "name": " Snake_Game.ipynb",
      "provenance": [],
      "collapsed_sections": [],
      "include_colab_link": true
    },
    "kernelspec": {
      "name": "python3",
      "display_name": "Python 3"
    },
    "language_info": {
      "name": "python"
    }
  },
  "cells": [
    {
      "cell_type": "markdown",
      "metadata": {
        "id": "view-in-github",
        "colab_type": "text"
      },
      "source": [
        "<a href=\"https://colab.research.google.com/github/DhruvBajaj01/snakegame/blob/main/Snake_Game.ipynb\" target=\"_parent\"><img src=\"https://colab.research.google.com/assets/colab-badge.svg\" alt=\"Open In Colab\"/></a>"
      ]
    },
    {
      "cell_type": "code",
      "metadata": {
        "id": "-CzFCaC8Z9KK"
      },
      "source": [
        "!unzip -q GameBot\\ \\(Colab\\).zip"
      ],
      "execution_count": null,
      "outputs": []
    },
    {
      "cell_type": "code",
      "metadata": {
        "id": "XQzTjGFNaFkS",
        "colab": {
          "base_uri": "https://localhost:8080/"
        },
        "outputId": "0c10671d-e63b-4231-9263-eed939804758"
      },
      "source": [
        "!pip install -r requirements.txt"
      ],
      "execution_count": null,
      "outputs": [
        {
          "output_type": "stream",
          "text": [
            "Requirement already satisfied: absl-py==0.13.0 in /usr/local/lib/python3.7/dist-packages (from -r requirements.txt (line 1)) (0.13.0)\n",
            "Requirement already satisfied: astunparse==1.6.3 in /usr/local/lib/python3.7/dist-packages (from -r requirements.txt (line 2)) (1.6.3)\n",
            "Requirement already satisfied: cached-property==1.5.2 in /usr/local/lib/python3.7/dist-packages (from -r requirements.txt (line 3)) (1.5.2)\n",
            "Requirement already satisfied: cachetools==4.2.2 in /usr/local/lib/python3.7/dist-packages (from -r requirements.txt (line 4)) (4.2.2)\n",
            "Requirement already satisfied: certifi==2021.5.30 in /usr/local/lib/python3.7/dist-packages (from -r requirements.txt (line 5)) (2021.5.30)\n",
            "Requirement already satisfied: chardet==4.0.0 in /usr/local/lib/python3.7/dist-packages (from -r requirements.txt (line 6)) (4.0.0)\n",
            "Requirement already satisfied: cycler==0.10.0 in /usr/local/lib/python3.7/dist-packages (from -r requirements.txt (line 7)) (0.10.0)\n",
            "Requirement already satisfied: flatbuffers==1.12 in /usr/local/lib/python3.7/dist-packages (from -r requirements.txt (line 8)) (1.12)\n",
            "Requirement already satisfied: gast==0.4.0 in /usr/local/lib/python3.7/dist-packages (from -r requirements.txt (line 9)) (0.4.0)\n",
            "Requirement already satisfied: google-auth==1.32.0 in /usr/local/lib/python3.7/dist-packages (from -r requirements.txt (line 10)) (1.32.0)\n",
            "Requirement already satisfied: google-auth-oauthlib==0.4.4 in /usr/local/lib/python3.7/dist-packages (from -r requirements.txt (line 11)) (0.4.4)\n",
            "Requirement already satisfied: google-pasta==0.2.0 in /usr/local/lib/python3.7/dist-packages (from -r requirements.txt (line 12)) (0.2.0)\n",
            "Requirement already satisfied: grpcio==1.34.1 in /usr/local/lib/python3.7/dist-packages (from -r requirements.txt (line 13)) (1.34.1)\n",
            "Requirement already satisfied: h5py==3.1.0 in /usr/local/lib/python3.7/dist-packages (from -r requirements.txt (line 14)) (3.1.0)\n",
            "Requirement already satisfied: idna==2.10 in /usr/local/lib/python3.7/dist-packages (from -r requirements.txt (line 15)) (2.10)\n",
            "Requirement already satisfied: importlib-metadata==4.6.0 in /usr/local/lib/python3.7/dist-packages (from -r requirements.txt (line 16)) (4.6.0)\n",
            "Requirement already satisfied: Keras==2.4.3 in /usr/local/lib/python3.7/dist-packages (from -r requirements.txt (line 17)) (2.4.3)\n",
            "Requirement already satisfied: keras-nightly==2.5.0.dev2021032900 in /usr/local/lib/python3.7/dist-packages (from -r requirements.txt (line 18)) (2.5.0.dev2021032900)\n",
            "Requirement already satisfied: Keras-Preprocessing==1.1.2 in /usr/local/lib/python3.7/dist-packages (from -r requirements.txt (line 19)) (1.1.2)\n",
            "Requirement already satisfied: kiwisolver==1.3.1 in /usr/local/lib/python3.7/dist-packages (from -r requirements.txt (line 20)) (1.3.1)\n",
            "Requirement already satisfied: Markdown==3.3.4 in /usr/local/lib/python3.7/dist-packages (from -r requirements.txt (line 21)) (3.3.4)\n",
            "Requirement already satisfied: matplotlib==3.4.2 in /usr/local/lib/python3.7/dist-packages (from -r requirements.txt (line 22)) (3.4.2)\n",
            "Requirement already satisfied: numpy==1.19.5 in /usr/local/lib/python3.7/dist-packages (from -r requirements.txt (line 23)) (1.19.5)\n",
            "Requirement already satisfied: oauthlib==3.1.1 in /usr/local/lib/python3.7/dist-packages (from -r requirements.txt (line 24)) (3.1.1)\n",
            "Requirement already satisfied: opt-einsum==3.3.0 in /usr/local/lib/python3.7/dist-packages (from -r requirements.txt (line 25)) (3.3.0)\n",
            "Requirement already satisfied: pandas==1.2.5 in /usr/local/lib/python3.7/dist-packages (from -r requirements.txt (line 26)) (1.2.5)\n",
            "Requirement already satisfied: Pillow==8.2.0 in /usr/local/lib/python3.7/dist-packages (from -r requirements.txt (line 27)) (8.2.0)\n",
            "Requirement already satisfied: protobuf==3.17.3 in /usr/local/lib/python3.7/dist-packages (from -r requirements.txt (line 28)) (3.17.3)\n",
            "Requirement already satisfied: pyasn1==0.4.8 in /usr/local/lib/python3.7/dist-packages (from -r requirements.txt (line 29)) (0.4.8)\n",
            "Requirement already satisfied: pyasn1-modules==0.2.8 in /usr/local/lib/python3.7/dist-packages (from -r requirements.txt (line 30)) (0.2.8)\n",
            "Requirement already satisfied: pygame==2.0.1 in /usr/local/lib/python3.7/dist-packages (from -r requirements.txt (line 31)) (2.0.1)\n",
            "Requirement already satisfied: pyparsing==2.4.7 in /usr/local/lib/python3.7/dist-packages (from -r requirements.txt (line 32)) (2.4.7)\n",
            "Requirement already satisfied: python-dateutil==2.8.1 in /usr/local/lib/python3.7/dist-packages (from -r requirements.txt (line 33)) (2.8.1)\n",
            "Requirement already satisfied: pytz==2021.1 in /usr/local/lib/python3.7/dist-packages (from -r requirements.txt (line 34)) (2021.1)\n",
            "Requirement already satisfied: PyYAML==5.4.1 in /usr/local/lib/python3.7/dist-packages (from -r requirements.txt (line 35)) (5.4.1)\n",
            "Requirement already satisfied: requests==2.25.1 in /usr/local/lib/python3.7/dist-packages (from -r requirements.txt (line 36)) (2.25.1)\n",
            "Requirement already satisfied: requests-oauthlib==1.3.0 in /usr/local/lib/python3.7/dist-packages (from -r requirements.txt (line 37)) (1.3.0)\n",
            "Requirement already satisfied: rsa==4.7.2 in /usr/local/lib/python3.7/dist-packages (from -r requirements.txt (line 38)) (4.7.2)\n",
            "Requirement already satisfied: scipy==1.7.0 in /usr/local/lib/python3.7/dist-packages (from -r requirements.txt (line 39)) (1.7.0)\n",
            "Requirement already satisfied: seaborn==0.11.1 in /usr/local/lib/python3.7/dist-packages (from -r requirements.txt (line 40)) (0.11.1)\n",
            "Requirement already satisfied: six==1.15.0 in /usr/local/lib/python3.7/dist-packages (from -r requirements.txt (line 41)) (1.15.0)\n",
            "Requirement already satisfied: tensorboard==2.5.0 in /usr/local/lib/python3.7/dist-packages (from -r requirements.txt (line 42)) (2.5.0)\n",
            "Requirement already satisfied: tensorboard-data-server==0.6.1 in /usr/local/lib/python3.7/dist-packages (from -r requirements.txt (line 43)) (0.6.1)\n",
            "Requirement already satisfied: tensorboard-plugin-wit==1.8.0 in /usr/local/lib/python3.7/dist-packages (from -r requirements.txt (line 44)) (1.8.0)\n",
            "Requirement already satisfied: tensorflow==2.5.0 in /usr/local/lib/python3.7/dist-packages (from -r requirements.txt (line 45)) (2.5.0)\n",
            "Requirement already satisfied: tensorflow-estimator==2.5.0 in /usr/local/lib/python3.7/dist-packages (from -r requirements.txt (line 46)) (2.5.0)\n",
            "Requirement already satisfied: termcolor==1.1.0 in /usr/local/lib/python3.7/dist-packages (from -r requirements.txt (line 47)) (1.1.0)\n",
            "Requirement already satisfied: typing-extensions==3.7.4.3 in /usr/local/lib/python3.7/dist-packages (from -r requirements.txt (line 48)) (3.7.4.3)\n",
            "Requirement already satisfied: urllib3==1.26.6 in /usr/local/lib/python3.7/dist-packages (from -r requirements.txt (line 49)) (1.26.6)\n",
            "Requirement already satisfied: Werkzeug==2.0.1 in /usr/local/lib/python3.7/dist-packages (from -r requirements.txt (line 50)) (2.0.1)\n",
            "Requirement already satisfied: wrapt==1.12.1 in /usr/local/lib/python3.7/dist-packages (from -r requirements.txt (line 51)) (1.12.1)\n",
            "Requirement already satisfied: zipp==3.4.1 in /usr/local/lib/python3.7/dist-packages (from -r requirements.txt (line 52)) (3.4.1)\n",
            "Requirement already satisfied: wheel<1.0,>=0.23.0 in /usr/local/lib/python3.7/dist-packages (from astunparse==1.6.3->-r requirements.txt (line 2)) (0.36.2)\n",
            "Requirement already satisfied: setuptools>=40.3.0 in /usr/local/lib/python3.7/dist-packages (from google-auth==1.32.0->-r requirements.txt (line 10)) (57.0.0)\n"
          ],
          "name": "stdout"
        }
      ]
    },
    {
      "cell_type": "code",
      "metadata": {
        "id": "SEfIFjlfaZju",
        "colab": {
          "base_uri": "https://localhost:8080/"
        },
        "outputId": "aacb2c6f-0258-4a30-9eb2-562467ce4072"
      },
      "source": [
        "import os\n",
        "# set SDL to use the dummy NULL video driver, \n",
        "# so it doesn't need a windowing system.\n",
        "# this is required because colab doesn't allow program to create windows\n",
        "os.environ[\"SDL_VIDEODRIVER\"] = \"dummy\"\n",
        "\n",
        "import pygame\n",
        "import argparse\n",
        "import numpy as np\n",
        "import seaborn as sns\n",
        "import matplotlib.pyplot as plt\n",
        "from Agent import DQN\n",
        "from random import randint\n",
        "from keras.utils.np_utils import to_categorical\n",
        "\n",
        "# following are required to display game in colab\n",
        "from google.colab.patches import cv2_imshow\n",
        "from google.colab import output\n",
        "import cv2\n",
        "import time"
      ],
      "execution_count": null,
      "outputs": [
        {
          "output_type": "stream",
          "text": [
            "pygame 2.0.1 (SDL 2.0.14, Python 3.7.10)\n",
            "Hello from the pygame community. https://www.pygame.org/contribute.html\n"
          ],
          "name": "stdout"
        }
      ]
    },
    {
      "cell_type": "code",
      "metadata": {
        "id": "qFahIb_tiqLU"
      },
      "source": [
        "def define_parameters():\n",
        "    params = dict()\n",
        "    params['epsilon_decay_linear'] = 1/75    #Parameter used to predict randomness \n",
        "    params['learning_rate'] = 0.0005\n",
        "    params['first_layer_size'] = 150\n",
        "    params['second_layer_size'] = 150\n",
        "    params['third_layer_size'] = 150\n",
        "    params['episodes'] = 150          # Number of times we will iterate the game   \n",
        "    params['memory_size'] = 2500      # Storing state action and reward of the game, so that we can trainit again\n",
        "    params['batch_size'] = 500        # Will train the game from memory\n",
        "    params['weights_path'] = 'weights/weights.hdf5'  # Weights of Trained model\n",
        "    params['load_weights'] = True                   \n",
        "    params['train'] = False\n",
        "    return params"
      ],
      "execution_count": null,
      "outputs": []
    },
    {
      "cell_type": "code",
      "metadata": {
        "id": "XWPlQ8y3it4z"
      },
      "source": [
        "class Player(object):\n",
        "    def __init__(self, game):\n",
        "        x = 0.45 * game.game_width\n",
        "        y = 0.5 * game.game_height\n",
        "        self.x = x - x % 20\n",
        "        self.y = y - y % 20\n",
        "        self.position = []\n",
        "        self.position.append([self.x, self.y])\n",
        "        self.food = 1\n",
        "        self.eaten = False\n",
        "        self.image = pygame.image.load('img/snakeBody.png')\n",
        "        self.x_change = 20\n",
        "        self.y_change = 0\n",
        "\n",
        "    # update snake body positions\n",
        "    def update_position(self, x, y):\n",
        "        if self.position[-1][0] != x or self.position[-1][1] != y:\n",
        "            if self.food > 1:\n",
        "                for i in range(0, self.food - 1):\n",
        "                    self.position[i][0], self.position[i][1] = self.position[i + 1]\n",
        "            self.position[-1][0] = x\n",
        "            self.position[-1][1] = y\n",
        "\n",
        "    # move the snake (left, right)\n",
        "    def do_move(self, move, x, y, game, food, agent):\n",
        "        move_array = [self.x_change, self.y_change]\n",
        "\n",
        "        if self.eaten:\n",
        "            self.position.append([self.x, self.y])\n",
        "            self.eaten = False\n",
        "            self.food = self.food + 1\n",
        "        if np.array_equal(move, [1, 0, 0]):\n",
        "            move_array = self.x_change, self.y_change\n",
        "        elif np.array_equal(move, [0, 1, 0]) and self.y_change == 0:  # right - going horizontal\n",
        "            move_array = [0, self.x_change]\n",
        "        elif np.array_equal(move, [0, 1, 0]) and self.x_change == 0:  # right - going vertical\n",
        "            move_array = [-self.y_change, 0]\n",
        "        elif np.array_equal(move, [0, 0, 1]) and self.y_change == 0:  # left - going horizontal\n",
        "            move_array = [0, -self.x_change]\n",
        "        elif np.array_equal(move, [0, 0, 1]) and self.x_change == 0:  # left - going vertical\n",
        "            move_array = [self.y_change, 0]\n",
        "        self.x_change, self.y_change = move_array\n",
        "        self.x = x + self.x_change\n",
        "        self.y = y + self.y_change\n",
        "\n",
        "        if self.x < 20 or self.x > game.game_width - 40 \\\n",
        "                or self.y < 20 \\\n",
        "                or self.y > game.game_height - 40 \\\n",
        "                or [self.x, self.y] in self.position:\n",
        "            game.crash = True\n",
        "        eat(self, food, game)\n",
        "\n",
        "        self.update_position(self.x, self.y)\n",
        "\n",
        "    # display snake\n",
        "    def display_player(self, x, y, food, game):\n",
        "        self.position[-1][0] = x\n",
        "        self.position[-1][1] = y\n",
        "\n",
        "        if game.crash == False:\n",
        "            for i in range(food):\n",
        "                x_temp, y_temp = self.position[len(self.position) - 1 - i]\n",
        "                game.gameDisplay.blit(self.image, (x_temp, y_temp))\n",
        "\n",
        "            update_screen()\n",
        "        else:\n",
        "            pygame.time.wait(300)"
      ],
      "execution_count": null,
      "outputs": []
    },
    {
      "cell_type": "code",
      "metadata": {
        "id": "EY2zPfIXi274"
      },
      "source": [
        "class Food(object):\n",
        "    def __init__(self):\n",
        "        self.x_food = 240\n",
        "        self.y_food = 200\n",
        "        self.image = pygame.image.load('img/food2.png')\n",
        "\n",
        "    # get new food coordinate\n",
        "    def food_coord(self, game, player):\n",
        "        x_rand = randint(20, game.game_width - 40)\n",
        "        self.x_food = x_rand - x_rand % 20\n",
        "        y_rand = randint(20, game.game_height - 40)\n",
        "        self.y_food = y_rand - y_rand % 20\n",
        "        if [self.x_food, self.y_food] not in player.position:\n",
        "            return self.x_food, self.y_food\n",
        "        else:\n",
        "            self.food_coord(game, player)\n",
        "\n",
        "    def display_food(self, x, y, game):\n",
        "        game.gameDisplay.blit(self.image, (x, y))\n",
        "        update_screen()"
      ],
      "execution_count": null,
      "outputs": []
    },
    {
      "cell_type": "code",
      "metadata": {
        "id": "f9_V72f2ir8t"
      },
      "source": [
        "class Game:\n",
        "    def __init__(self, game_width, game_height):\n",
        "        pygame.display.set_caption('SnakeGen')\n",
        "        self.game_width = game_width\n",
        "        self.game_height = game_height\n",
        "        self.gameDisplay = pygame.display.set_mode((game_width, game_height + 60))\n",
        "        self.bg = pygame.image.load(\"img/background.png\")\n",
        "        self.crash = False\n",
        "        self.player = Player(self)\n",
        "        self.food = Food()\n",
        "        self.score = 0"
      ],
      "execution_count": null,
      "outputs": []
    },
    {
      "cell_type": "code",
      "metadata": {
        "id": "DA7tFBBKi7NJ"
      },
      "source": [
        "def eat(player, food, game):\n",
        "    if player.x == food.x_food and player.y == food.y_food:\n",
        "        food.food_coord(game, player)\n",
        "        player.eaten = True\n",
        "        game.score = game.score + 1\n",
        "\n",
        "\n",
        "def get_record(score, record):\n",
        "    if score >= record:\n",
        "        return score\n",
        "    else:\n",
        "        return record\n",
        "\n",
        "\n",
        "def display_ui(game, score, record):\n",
        "    myfont = pygame.font.SysFont('Segoe UI', 20)\n",
        "    myfont_bold = pygame.font.SysFont('Segoe UI', 20, True)\n",
        "    text_score = myfont.render('SCORE: ', True, (0, 0, 0))\n",
        "    text_score_number = myfont.render(str(score), True, (0, 0, 0))\n",
        "    text_highest = myfont.render('HIGHEST SCORE: ', True, (0, 0, 0))\n",
        "    text_highest_number = myfont_bold.render(str(record), True, (0, 0, 0))\n",
        "    game.gameDisplay.blit(text_score, (45, 440))\n",
        "    game.gameDisplay.blit(text_score_number, (120, 440))\n",
        "    game.gameDisplay.blit(text_highest, (190, 440))\n",
        "    game.gameDisplay.blit(text_highest_number, (350, 440))\n",
        "    game.gameDisplay.blit(game.bg, (10, 10))\n",
        "\n",
        "\n",
        "def display(player, food, game, record):\n",
        "    game.gameDisplay.fill((255, 255, 255))\n",
        "    display_ui(game, game.score, record)\n",
        "    player.display_player(player.position[-1][0], player.position[-1][1], player.food, game)\n",
        "    food.display_food(food.x_food, food.y_food, game)\n",
        "\n",
        "\n",
        "def update_screen():\n",
        "    pygame.display.update()\n",
        "\n",
        "\n",
        "def initialize_game(player, game, food, agent, batch_size):\n",
        "    state_init1 = agent.get_state(game, player, food)  # [0 0 0 0 0 0 0 0 0 1 0 0 0 1 0 0]\n",
        "    action = [1, 0, 0]\n",
        "    player.do_move(action, player.x, player.y, game, food, agent)\n",
        "    state_init2 = agent.get_state(game, player, food)\n",
        "    reward1 = agent.set_reward(player, game.crash)\n",
        "    agent.remember(state_init1, action, reward1, state_init2, game.crash)\n",
        "    agent.replay_new(agent.memory, batch_size)"
      ],
      "execution_count": null,
      "outputs": []
    },
    {
      "cell_type": "code",
      "metadata": {
        "id": "Wsh4lQt3inje"
      },
      "source": [
        "def run(display_option, speed, params):\n",
        "    pygame.init()\n",
        "    agent = DQN(params)\n",
        "    weights_filepath = params['weights_path']\n",
        "    if params['load_weights']:\n",
        "        agent.model.load_weights(weights_filepath)\n",
        "        print(\"weights loaded\")\n",
        "\n",
        "    counter_games = 0\n",
        "    score_plot = []\n",
        "    counter_plot = []\n",
        "    record = 0\n",
        "    while counter_games < params['episodes']:\n",
        "        for event in pygame.event.get():\n",
        "            if event.type == pygame.QUIT:\n",
        "                pygame.quit()\n",
        "                quit()\n",
        "        # Initialize classes\n",
        "        game = Game(440, 440)\n",
        "        player1 = game.player\n",
        "        food1 = game.food\n",
        "\n",
        "        # Perform first move\n",
        "        initialize_game(player1, game, food1, agent, params['batch_size'])\n",
        "        if display_option:\n",
        "            display(player1, food1, game, record)\n",
        "            view = pygame.surfarray.array3d(game.gameDisplay)\n",
        "            #  convert from (width, height, channel) to (height, width, channel)\n",
        "            view = view.transpose([1, 0, 2])\n",
        "            #  convert from rgb to bgr\n",
        "            img_bgr = cv2.cvtColor(view, cv2.COLOR_RGB2BGR)\n",
        "            #Display image, clear cell every 0.5 seconds\n",
        "            cv2_imshow(img_bgr)\n",
        "            time.sleep(0.5)\n",
        "            output.clear()\n",
        "\n",
        "        while not game.crash:\n",
        "            if not params['train']:\n",
        "                agent.epsilon = 0\n",
        "            else:\n",
        "                # agent.epsilon is set to give randomness to actions\n",
        "                agent.epsilon = 1 - (counter_games * params['epsilon_decay_linear'])\n",
        "\n",
        "            # get old state\n",
        "            state_old = agent.get_state(game, player1, food1)\n",
        "\n",
        "            # perform random actions based on agent.epsilon, or choose the action\n",
        "            if randint(0, 1) < agent.epsilon:\n",
        "                final_move = to_categorical(randint(0, 2), num_classes=3)\n",
        "            else:\n",
        "                # predict action based on the old state\n",
        "                prediction = agent.model.predict(state_old.reshape((1, 11)))\n",
        "                final_move = to_categorical(np.argmax(prediction[0]), num_classes=3)\n",
        "\n",
        "            # perform new move and get new state\n",
        "            player1.do_move(final_move, player1.x, player1.y, game, food1, agent)\n",
        "            state_new = agent.get_state(game, player1, food1)\n",
        "\n",
        "            # set reward for the new state\n",
        "            reward = agent.set_reward(player1, game.crash)\n",
        "\n",
        "            if params['train']:\n",
        "                # train short memory base on the new action and state\n",
        "                agent.train_short_memory(state_old, final_move, reward, state_new, game.crash)\n",
        "                # store the new data into a long term memory\n",
        "                agent.remember(state_old, final_move, reward, state_new, game.crash)\n",
        "\n",
        "            record = get_record(game.score, record)\n",
        "            if display_option:\n",
        "                display(player1, food1, game, record)\n",
        "                view = pygame.surfarray.array3d(game.gameDisplay)\n",
        "                #  convert from (width, height, channel) to (height, width, channel)\n",
        "                view = view.transpose([1, 0, 2])\n",
        "                #  convert from rgb to bgr\n",
        "                img_bgr = cv2.cvtColor(view, cv2.COLOR_RGB2BGR)\n",
        "                #Display image, clear cell every 0.5 seconds\n",
        "                cv2_imshow(img_bgr)\n",
        "                time.sleep(speed/100)\n",
        "                # pygame.time.wait(speed)\n",
        "                output.clear()\n",
        "\n",
        "        if params['train']:\n",
        "            agent.replay_new(agent.memory, params['batch_size'])\n",
        "        counter_games += 1\n",
        "        print(f'Game {counter_games}      Score: {game.score}')\n",
        "        score_plot.append(game.score)\n",
        "        counter_plot.append(counter_games)\n",
        "    if params['train']:\n",
        "        agent.model.save_weights(params['weights_path'])"
      ],
      "execution_count": null,
      "outputs": []
    },
    {
      "cell_type": "code",
      "metadata": {
        "id": "mVISYxdpb80O"
      },
      "source": [
        "pygame.font.init()\n",
        "params = define_parameters()\n",
        "run(True, 50, params)"
      ],
      "execution_count": null,
      "outputs": []
    },
    {
      "cell_type": "code",
      "metadata": {
        "id": "61pR2fvFuVan"
      },
      "source": [
        ""
      ],
      "execution_count": null,
      "outputs": []
    }
  ]
}